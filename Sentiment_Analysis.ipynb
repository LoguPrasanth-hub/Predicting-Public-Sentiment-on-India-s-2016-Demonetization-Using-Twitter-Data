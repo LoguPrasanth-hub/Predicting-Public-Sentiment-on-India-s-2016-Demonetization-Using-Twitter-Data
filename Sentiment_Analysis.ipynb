{
  "cells": [
    {
      "cell_type": "markdown",
      "metadata": {
        "id": "view-in-github",
        "colab_type": "text"
      },
      "source": [
        "<a href=\"https://colab.research.google.com/github/LoguPrasanth-hub/Sentiment-Analysis/blob/main/Sentiment_Analysis.ipynb\" target=\"_parent\"><img src=\"https://colab.research.google.com/assets/colab-badge.svg\" alt=\"Open In Colab\"/></a>"
      ]
    },
    {
      "cell_type": "markdown",
      "metadata": {
        "id": "TzTLI-dpOJrP"
      },
      "source": [
        "## Sentiment Analysis\n",
        "\n",
        "In this case study, you will be shown how to perform Sentiment Analysis on Twitter data using NLP techniques from Python."
      ]
    },
    {
      "cell_type": "markdown",
      "metadata": {
        "id": "gWe5EjOqOJrR"
      },
      "source": [
        "**Scenario:**\n",
        "\n",
        "The demonetization of Indian currency was a step taken by Government of India on November 8 leaving the entire country into shock. Some of currency notes were banned and entire country became emotional and few have taken to twitter to express their feelings.\n",
        "\n",
        "**Challenge:**\n",
        "\n",
        "It's important to understand the implications of the steps taken by Government and take actions based on the citizen's response. This case study is  to analyse these tweets to understand the overall reaction of citizens.\n",
        "\n",
        "**Dataset:**\n",
        "\n",
        "Data of tweets on #demonetization has been extracted from Twitter and is available in the file \"demonetization_tweets_data.csv\". This dataset contains 7470 rows and 12 columns.\n"
      ]
    },
    {
      "cell_type": "code",
      "execution_count": null,
      "metadata": {
        "id": "CrXaCKxrOJrR"
      },
      "outputs": [],
      "source": [
        "# Load the required libraries from Python\n",
        "import pandas as pd\n",
        "import numpy as np\n",
        "import matplotlib.pyplot as plt\n",
        "%matplotlib inline\n",
        "import re\n",
        "import nltk"
      ]
    },
    {
      "cell_type": "code",
      "execution_count": null,
      "metadata": {
        "id": "CUknMnW_OJrS"
      },
      "outputs": [],
      "source": [
        "# Load the dataset.\n",
        "tweets = pd.read_csv(\"demonetization-tweets_data.csv\",encoding = \"ISO-8859-1\")"
      ]
    },
    {
      "cell_type": "code",
      "execution_count": null,
      "metadata": {
        "id": "cezYlkUoOJrS",
        "outputId": "4750582e-c9c5-435c-e04f-a91699833ffe"
      },
      "outputs": [
        {
          "data": {
            "text/plain": [
              "(7470, 12)"
            ]
          },
          "execution_count": 4,
          "metadata": {},
          "output_type": "execute_result"
        }
      ],
      "source": [
        "tweets.shape"
      ]
    },
    {
      "cell_type": "code",
      "execution_count": null,
      "metadata": {
        "id": "hvTkTlXCOJrT",
        "outputId": "0ee7470b-9d77-48a1-bbd8-b9c9221b3b60"
      },
      "outputs": [
        {
          "data": {
            "text/html": [
              "<div>\n",
              "<style scoped>\n",
              "    .dataframe tbody tr th:only-of-type {\n",
              "        vertical-align: middle;\n",
              "    }\n",
              "\n",
              "    .dataframe tbody tr th {\n",
              "        vertical-align: top;\n",
              "    }\n",
              "\n",
              "    .dataframe thead th {\n",
              "        text-align: right;\n",
              "    }\n",
              "</style>\n",
              "<table border=\"1\" class=\"dataframe\">\n",
              "  <thead>\n",
              "    <tr style=\"text-align: right;\">\n",
              "      <th></th>\n",
              "      <th>text</th>\n",
              "      <th>favorited</th>\n",
              "      <th>favoriteCount</th>\n",
              "      <th>replyToSN</th>\n",
              "      <th>created</th>\n",
              "      <th>truncated</th>\n",
              "      <th>replyToSID</th>\n",
              "      <th>statusSource</th>\n",
              "      <th>screenName</th>\n",
              "      <th>retweetCount</th>\n",
              "      <th>isRetweet</th>\n",
              "      <th>retweeted</th>\n",
              "    </tr>\n",
              "  </thead>\n",
              "  <tbody>\n",
              "    <tr>\n",
              "      <th>0</th>\n",
              "      <td>RT @rssurjewala: Critical question: Was PayTM ...</td>\n",
              "      <td>False</td>\n",
              "      <td>0</td>\n",
              "      <td>NaN</td>\n",
              "      <td>11/23/2016 18:40</td>\n",
              "      <td>False</td>\n",
              "      <td>NaN</td>\n",
              "      <td>&lt;a href=\"http://twitter.com/download/android\" ...</td>\n",
              "      <td>HASHTAGFARZIWAL</td>\n",
              "      <td>331</td>\n",
              "      <td>True</td>\n",
              "      <td>False</td>\n",
              "    </tr>\n",
              "    <tr>\n",
              "      <th>1</th>\n",
              "      <td>RT @roshankar: Former FinSec, RBI Dy Governor,...</td>\n",
              "      <td>False</td>\n",
              "      <td>0</td>\n",
              "      <td>NaN</td>\n",
              "      <td>11/23/2016 18:40</td>\n",
              "      <td>False</td>\n",
              "      <td>NaN</td>\n",
              "      <td>&lt;a href=\"http://twitter.com/download/android\" ...</td>\n",
              "      <td>rahulja13034944</td>\n",
              "      <td>12</td>\n",
              "      <td>True</td>\n",
              "      <td>False</td>\n",
              "    </tr>\n",
              "    <tr>\n",
              "      <th>2</th>\n",
              "      <td>RT @satishacharya: Reddy Wedding! @mail_today ...</td>\n",
              "      <td>False</td>\n",
              "      <td>0</td>\n",
              "      <td>NaN</td>\n",
              "      <td>11/23/2016 18:39</td>\n",
              "      <td>False</td>\n",
              "      <td>NaN</td>\n",
              "      <td>&lt;a href=\"http://cpimharyana.com\" rel=\"nofollow...</td>\n",
              "      <td>CPIMBadli</td>\n",
              "      <td>120</td>\n",
              "      <td>True</td>\n",
              "      <td>False</td>\n",
              "    </tr>\n",
              "    <tr>\n",
              "      <th>3</th>\n",
              "      <td>RT @gauravcsawant: Rs 40 lakh looted from a ba...</td>\n",
              "      <td>False</td>\n",
              "      <td>0</td>\n",
              "      <td>NaN</td>\n",
              "      <td>11/23/2016 18:38</td>\n",
              "      <td>False</td>\n",
              "      <td>NaN</td>\n",
              "      <td>&lt;a href=\"http://twitter.com/download/android\" ...</td>\n",
              "      <td>bhodia1</td>\n",
              "      <td>637</td>\n",
              "      <td>True</td>\n",
              "      <td>False</td>\n",
              "    </tr>\n",
              "    <tr>\n",
              "      <th>4</th>\n",
              "      <td>RT @sumitbhati2002: Many opposition leaders ar...</td>\n",
              "      <td>False</td>\n",
              "      <td>0</td>\n",
              "      <td>NaN</td>\n",
              "      <td>11/23/2016 18:38</td>\n",
              "      <td>False</td>\n",
              "      <td>NaN</td>\n",
              "      <td>&lt;a href=\"http://twitter.com/download/android\" ...</td>\n",
              "      <td>sumitbhati2002</td>\n",
              "      <td>1</td>\n",
              "      <td>True</td>\n",
              "      <td>False</td>\n",
              "    </tr>\n",
              "  </tbody>\n",
              "</table>\n",
              "</div>"
            ],
            "text/plain": [
              "                                                text  favorited  \\\n",
              "0  RT @rssurjewala: Critical question: Was PayTM ...      False   \n",
              "1  RT @roshankar: Former FinSec, RBI Dy Governor,...      False   \n",
              "2  RT @satishacharya: Reddy Wedding! @mail_today ...      False   \n",
              "3  RT @gauravcsawant: Rs 40 lakh looted from a ba...      False   \n",
              "4  RT @sumitbhati2002: Many opposition leaders ar...      False   \n",
              "\n",
              "   favoriteCount replyToSN           created  truncated  replyToSID  \\\n",
              "0              0       NaN  11/23/2016 18:40      False         NaN   \n",
              "1              0       NaN  11/23/2016 18:40      False         NaN   \n",
              "2              0       NaN  11/23/2016 18:39      False         NaN   \n",
              "3              0       NaN  11/23/2016 18:38      False         NaN   \n",
              "4              0       NaN  11/23/2016 18:38      False         NaN   \n",
              "\n",
              "                                        statusSource       screenName  \\\n",
              "0  <a href=\"http://twitter.com/download/android\" ...  HASHTAGFARZIWAL   \n",
              "1  <a href=\"http://twitter.com/download/android\" ...  rahulja13034944   \n",
              "2  <a href=\"http://cpimharyana.com\" rel=\"nofollow...        CPIMBadli   \n",
              "3  <a href=\"http://twitter.com/download/android\" ...          bhodia1   \n",
              "4  <a href=\"http://twitter.com/download/android\" ...   sumitbhati2002   \n",
              "\n",
              "   retweetCount  isRetweet  retweeted  \n",
              "0           331       True      False  \n",
              "1            12       True      False  \n",
              "2           120       True      False  \n",
              "3           637       True      False  \n",
              "4             1       True      False  "
            ]
          },
          "execution_count": 5,
          "metadata": {},
          "output_type": "execute_result"
        }
      ],
      "source": [
        "tweets.head()"
      ]
    },
    {
      "cell_type": "code",
      "execution_count": null,
      "metadata": {
        "id": "DHztJZPFOJrU",
        "outputId": "2af7caef-5faa-4ad4-96e5-342d47451251"
      },
      "outputs": [
        {
          "data": {
            "text/plain": [
              "'RT @RNTata2000: The government\\x92s bold implementation of the demonetization programme needs the nation\\x92s support. https://t.co/tx1ZILSor8'"
            ]
          },
          "execution_count": 6,
          "metadata": {},
          "output_type": "execute_result"
        }
      ],
      "source": [
        "tweets.iloc[tweets['retweetCount'].idxmax()]['text']"
      ]
    },
    {
      "cell_type": "markdown",
      "metadata": {
        "id": "ANtjpIsWOJrU"
      },
      "source": [
        "- ### Clean the data\n",
        "\n",
        "\n",
        "    - Observe that the tweet text contains various elements such as 'Retweet tag RT@', 'punctuation marks' and 'stop words'\n",
        "    - Use functions from Python libraries such as re, string and NLTK to remove these unnecessary elements\n"
      ]
    },
    {
      "cell_type": "code",
      "execution_count": null,
      "metadata": {
        "id": "b9s2qvXXOJrU"
      },
      "outputs": [],
      "source": [
        "# Load the required libraries for cleaning\n",
        "import string,re\n",
        "from nltk.tokenize import word_tokenize\n",
        "from nltk.corpus import stopwords"
      ]
    },
    {
      "cell_type": "code",
      "execution_count": null,
      "metadata": {
        "id": "3IEx2ZeROJrU"
      },
      "outputs": [],
      "source": [
        "# Create a function to generate cleaned data from raw text\n",
        "def clean_text(tweets):\n",
        "    tweets = word_tokenize(tweets) # Create tokens\n",
        "    tweets = tweets[4:] # Remove RT@\n",
        "    tweets = \" \".join(tweets) # Join tokens\n",
        "    tweets = re.sub('https','',tweets) # Remove 'https' text with blank\n",
        "    tweets = [char for char in tweets if char not in string.punctuation] # Remove punctuations\n",
        "    tweets = ''.join(tweets) # Join the leters\n",
        "    tweets = [word for word in tweets.split() if word.lower() not in stopwords.words('english')] # Remove common english words (I, you, we,...)\n",
        "    return \" \".join(tweets)"
      ]
    },
    {
      "cell_type": "code",
      "execution_count": null,
      "metadata": {
        "id": "hQgtoCa_OJrU"
      },
      "outputs": [],
      "source": [
        "# Apply the function to 'text' to clean it\n",
        "# Add cleaned data as a separate column to the DataFrame\n",
        "\n",
        "tweets['cleaned_text']=tweets['text'].apply(clean_text)"
      ]
    },
    {
      "cell_type": "code",
      "execution_count": null,
      "metadata": {
        "id": "un8JdE8COJrV",
        "outputId": "1f2558ad-2073-4247-f52d-0c4cce688f3a"
      },
      "outputs": [
        {
          "data": {
            "text/plain": [
              "0    Critical question PayTM informed Demonetizatio...\n",
              "1    Former FinSec RBI Dy Governor CBDT Chair Harva...\n",
              "2    Reddy Wedding mailtoday cartoon demonetization...\n",
              "3    Rs 40 lakh looted bank Kishtwar J amp K Third ...\n",
              "4    Many opposition leaders narendramodi Demonetiz...\n",
              "Name: cleaned_text, dtype: object"
            ]
          },
          "execution_count": 10,
          "metadata": {},
          "output_type": "execute_result"
        }
      ],
      "source": [
        "# Print the first 5 values of cleaned tweet data\n",
        "\n",
        "tweets['cleaned_text'].head()"
      ]
    },
    {
      "cell_type": "code",
      "execution_count": null,
      "metadata": {
        "id": "TtMZiYc9OJrV"
      },
      "outputs": [],
      "source": [
        "features = tweets['cleaned_text']\n",
        "processed_features = []\n",
        "\n",
        "for sentence in range(0, len(features)):\n",
        "    # Remove all the special characters\n",
        "    processed_feature = re.sub(r'\\W', ' ', str(features[sentence]))\n",
        "\n",
        "    # Remove single characters appearing in the text except the start\n",
        "    processed_feature= re.sub(r'\\s+[a-zA-Z]\\s+', ' ', processed_feature)\n",
        "\n",
        "    # Remove single characters appearing at the start\n",
        "    processed_feature = re.sub(r'\\^[a-zA-Z]\\s+', ' ', processed_feature)\n",
        "\n",
        "    # Substitute multiple spaces with a single space\n",
        "    processed_feature = re.sub(r'\\s+', ' ', processed_feature, flags=re.I)\n",
        "\n",
        "    # Remove prefix 'b'\n",
        "    processed_feature = re.sub(r'^b\\s+', '', processed_feature)\n",
        "\n",
        "    # Convert to lowercase\n",
        "    processed_feature = processed_feature.lower()\n",
        "\n",
        "    processed_features.append(processed_feature)"
      ]
    },
    {
      "cell_type": "code",
      "execution_count": null,
      "metadata": {
        "id": "1W5n0XwqOJrV",
        "outputId": "f01339f5-73d6-4774-abc8-d56e7d88558d"
      },
      "outputs": [
        {
          "data": {
            "text/plain": [
              "['critical question paytm informed demonetization edict pm clearly fishy requires full disclosure amp',\n",
              " 'former finsec rbi dy governor cbdt chair harvard professor lambaste demonetization aam aadmi listen th',\n",
              " 'reddy wedding mailtoday cartoon demonetization reddywedding tcou7glnrq31f',\n",
              " 'rs 40 lakh looted bank kishtwar amp third incident since demonetization terrorists',\n",
              " 'many opposition leaders narendramodi demonetization respect decision support oppositio']"
            ]
          },
          "execution_count": 12,
          "metadata": {},
          "output_type": "execute_result"
        }
      ],
      "source": [
        "# Print first five values of processed data\n",
        "processed_features[:5]"
      ]
    },
    {
      "cell_type": "code",
      "execution_count": null,
      "metadata": {
        "id": "4iwZVg2aOJrV"
      },
      "outputs": [],
      "source": [
        "# Add the processed data as a separate column to the DataFrame\n",
        "\n",
        "tweets['processed_text'] = processed_features"
      ]
    },
    {
      "cell_type": "code",
      "execution_count": null,
      "metadata": {
        "id": "UbO2KJYIOJrV",
        "outputId": "3b14a972-ce60-4baa-d05b-270f8cfd58a4"
      },
      "outputs": [
        {
          "data": {
            "text/html": [
              "<div>\n",
              "<style scoped>\n",
              "    .dataframe tbody tr th:only-of-type {\n",
              "        vertical-align: middle;\n",
              "    }\n",
              "\n",
              "    .dataframe tbody tr th {\n",
              "        vertical-align: top;\n",
              "    }\n",
              "\n",
              "    .dataframe thead th {\n",
              "        text-align: right;\n",
              "    }\n",
              "</style>\n",
              "<table border=\"1\" class=\"dataframe\">\n",
              "  <thead>\n",
              "    <tr style=\"text-align: right;\">\n",
              "      <th></th>\n",
              "      <th>text</th>\n",
              "      <th>favorited</th>\n",
              "      <th>favoriteCount</th>\n",
              "      <th>replyToSN</th>\n",
              "      <th>created</th>\n",
              "      <th>truncated</th>\n",
              "      <th>replyToSID</th>\n",
              "      <th>statusSource</th>\n",
              "      <th>screenName</th>\n",
              "      <th>retweetCount</th>\n",
              "      <th>isRetweet</th>\n",
              "      <th>retweeted</th>\n",
              "      <th>cleaned_text</th>\n",
              "      <th>processed_text</th>\n",
              "    </tr>\n",
              "  </thead>\n",
              "  <tbody>\n",
              "    <tr>\n",
              "      <th>0</th>\n",
              "      <td>RT @rssurjewala: Critical question: Was PayTM ...</td>\n",
              "      <td>False</td>\n",
              "      <td>0</td>\n",
              "      <td>NaN</td>\n",
              "      <td>11/23/2016 18:40</td>\n",
              "      <td>False</td>\n",
              "      <td>NaN</td>\n",
              "      <td>&lt;a href=\"http://twitter.com/download/android\" ...</td>\n",
              "      <td>HASHTAGFARZIWAL</td>\n",
              "      <td>331</td>\n",
              "      <td>True</td>\n",
              "      <td>False</td>\n",
              "      <td>Critical question PayTM informed Demonetizatio...</td>\n",
              "      <td>critical question paytm informed demonetizatio...</td>\n",
              "    </tr>\n",
              "    <tr>\n",
              "      <th>1</th>\n",
              "      <td>RT @roshankar: Former FinSec, RBI Dy Governor,...</td>\n",
              "      <td>False</td>\n",
              "      <td>0</td>\n",
              "      <td>NaN</td>\n",
              "      <td>11/23/2016 18:40</td>\n",
              "      <td>False</td>\n",
              "      <td>NaN</td>\n",
              "      <td>&lt;a href=\"http://twitter.com/download/android\" ...</td>\n",
              "      <td>rahulja13034944</td>\n",
              "      <td>12</td>\n",
              "      <td>True</td>\n",
              "      <td>False</td>\n",
              "      <td>Former FinSec RBI Dy Governor CBDT Chair Harva...</td>\n",
              "      <td>former finsec rbi dy governor cbdt chair harva...</td>\n",
              "    </tr>\n",
              "    <tr>\n",
              "      <th>2</th>\n",
              "      <td>RT @satishacharya: Reddy Wedding! @mail_today ...</td>\n",
              "      <td>False</td>\n",
              "      <td>0</td>\n",
              "      <td>NaN</td>\n",
              "      <td>11/23/2016 18:39</td>\n",
              "      <td>False</td>\n",
              "      <td>NaN</td>\n",
              "      <td>&lt;a href=\"http://cpimharyana.com\" rel=\"nofollow...</td>\n",
              "      <td>CPIMBadli</td>\n",
              "      <td>120</td>\n",
              "      <td>True</td>\n",
              "      <td>False</td>\n",
              "      <td>Reddy Wedding mailtoday cartoon demonetization...</td>\n",
              "      <td>reddy wedding mailtoday cartoon demonetization...</td>\n",
              "    </tr>\n",
              "    <tr>\n",
              "      <th>3</th>\n",
              "      <td>RT @gauravcsawant: Rs 40 lakh looted from a ba...</td>\n",
              "      <td>False</td>\n",
              "      <td>0</td>\n",
              "      <td>NaN</td>\n",
              "      <td>11/23/2016 18:38</td>\n",
              "      <td>False</td>\n",
              "      <td>NaN</td>\n",
              "      <td>&lt;a href=\"http://twitter.com/download/android\" ...</td>\n",
              "      <td>bhodia1</td>\n",
              "      <td>637</td>\n",
              "      <td>True</td>\n",
              "      <td>False</td>\n",
              "      <td>Rs 40 lakh looted bank Kishtwar J amp K Third ...</td>\n",
              "      <td>rs 40 lakh looted bank kishtwar amp third inci...</td>\n",
              "    </tr>\n",
              "    <tr>\n",
              "      <th>4</th>\n",
              "      <td>RT @sumitbhati2002: Many opposition leaders ar...</td>\n",
              "      <td>False</td>\n",
              "      <td>0</td>\n",
              "      <td>NaN</td>\n",
              "      <td>11/23/2016 18:38</td>\n",
              "      <td>False</td>\n",
              "      <td>NaN</td>\n",
              "      <td>&lt;a href=\"http://twitter.com/download/android\" ...</td>\n",
              "      <td>sumitbhati2002</td>\n",
              "      <td>1</td>\n",
              "      <td>True</td>\n",
              "      <td>False</td>\n",
              "      <td>Many opposition leaders narendramodi Demonetiz...</td>\n",
              "      <td>many opposition leaders narendramodi demonetiz...</td>\n",
              "    </tr>\n",
              "  </tbody>\n",
              "</table>\n",
              "</div>"
            ],
            "text/plain": [
              "                                                text  favorited  \\\n",
              "0  RT @rssurjewala: Critical question: Was PayTM ...      False   \n",
              "1  RT @roshankar: Former FinSec, RBI Dy Governor,...      False   \n",
              "2  RT @satishacharya: Reddy Wedding! @mail_today ...      False   \n",
              "3  RT @gauravcsawant: Rs 40 lakh looted from a ba...      False   \n",
              "4  RT @sumitbhati2002: Many opposition leaders ar...      False   \n",
              "\n",
              "   favoriteCount replyToSN           created  truncated  replyToSID  \\\n",
              "0              0       NaN  11/23/2016 18:40      False         NaN   \n",
              "1              0       NaN  11/23/2016 18:40      False         NaN   \n",
              "2              0       NaN  11/23/2016 18:39      False         NaN   \n",
              "3              0       NaN  11/23/2016 18:38      False         NaN   \n",
              "4              0       NaN  11/23/2016 18:38      False         NaN   \n",
              "\n",
              "                                        statusSource       screenName  \\\n",
              "0  <a href=\"http://twitter.com/download/android\" ...  HASHTAGFARZIWAL   \n",
              "1  <a href=\"http://twitter.com/download/android\" ...  rahulja13034944   \n",
              "2  <a href=\"http://cpimharyana.com\" rel=\"nofollow...        CPIMBadli   \n",
              "3  <a href=\"http://twitter.com/download/android\" ...          bhodia1   \n",
              "4  <a href=\"http://twitter.com/download/android\" ...   sumitbhati2002   \n",
              "\n",
              "   retweetCount  isRetweet  retweeted  \\\n",
              "0           331       True      False   \n",
              "1            12       True      False   \n",
              "2           120       True      False   \n",
              "3           637       True      False   \n",
              "4             1       True      False   \n",
              "\n",
              "                                        cleaned_text  \\\n",
              "0  Critical question PayTM informed Demonetizatio...   \n",
              "1  Former FinSec RBI Dy Governor CBDT Chair Harva...   \n",
              "2  Reddy Wedding mailtoday cartoon demonetization...   \n",
              "3  Rs 40 lakh looted bank Kishtwar J amp K Third ...   \n",
              "4  Many opposition leaders narendramodi Demonetiz...   \n",
              "\n",
              "                                      processed_text  \n",
              "0  critical question paytm informed demonetizatio...  \n",
              "1  former finsec rbi dy governor cbdt chair harva...  \n",
              "2  reddy wedding mailtoday cartoon demonetization...  \n",
              "3  rs 40 lakh looted bank kishtwar amp third inci...  \n",
              "4  many opposition leaders narendramodi demonetiz...  "
            ]
          },
          "execution_count": 14,
          "metadata": {},
          "output_type": "execute_result"
        }
      ],
      "source": [
        "# Observe the entire data\n",
        "\n",
        "tweets.head()"
      ]
    },
    {
      "cell_type": "markdown",
      "metadata": {
        "id": "ERNyLdRQOJrV"
      },
      "source": [
        "- ### Sentiment analysis\n",
        "\n",
        "    1. Import TextBlob from Python to calculate various Sentiment scores as described below:\n",
        "        - <b>Polarity</b> is a float value within the range [-1.0 to 1.0] where 0 indicates neutral, +1 indicates a very positive sentiment and -1 represents a very negative sentiment.\n",
        "        - <b>Subjectivity</b> is a float value within the range [0.0 to 1.0] where 0.0 is very objective and 1.0 is very subjective. Subjective sentence expresses some personal feelings, views, beliefs, opinions, allegations, desires, beliefs, suspicions, and speculations where as Objective sentences are factual."
      ]
    },
    {
      "cell_type": "code",
      "execution_count": null,
      "metadata": {
        "id": "JAtC5awxOJrV"
      },
      "outputs": [],
      "source": [
        "# Python library to create sentiment analysis\n",
        "from textblob import TextBlob"
      ]
    },
    {
      "cell_type": "code",
      "execution_count": null,
      "metadata": {
        "id": "ecABpt64OJrW"
      },
      "outputs": [],
      "source": [
        "# Create a function to calculate Sentiment scores for each text\n",
        "def generate_polarity(text):\n",
        "    sentiment = TextBlob(text).sentiment\n",
        "    return sentiment"
      ]
    },
    {
      "cell_type": "code",
      "execution_count": null,
      "metadata": {
        "id": "bmavdxFEOJrW",
        "outputId": "c8e221f4-6026-404f-c4e3-cba2db6a36d2"
      },
      "outputs": [
        {
          "data": {
            "text/html": [
              "<div>\n",
              "<style scoped>\n",
              "    .dataframe tbody tr th:only-of-type {\n",
              "        vertical-align: middle;\n",
              "    }\n",
              "\n",
              "    .dataframe tbody tr th {\n",
              "        vertical-align: top;\n",
              "    }\n",
              "\n",
              "    .dataframe thead th {\n",
              "        text-align: right;\n",
              "    }\n",
              "</style>\n",
              "<table border=\"1\" class=\"dataframe\">\n",
              "  <thead>\n",
              "    <tr style=\"text-align: right;\">\n",
              "      <th></th>\n",
              "      <th>processed_text</th>\n",
              "    </tr>\n",
              "  </thead>\n",
              "  <tbody>\n",
              "    <tr>\n",
              "      <th>0</th>\n",
              "      <td>(0.15, 0.5777777777777778)</td>\n",
              "    </tr>\n",
              "    <tr>\n",
              "      <th>1</th>\n",
              "      <td>(0.0, 0.0)</td>\n",
              "    </tr>\n",
              "    <tr>\n",
              "      <th>2</th>\n",
              "      <td>(0.0, 0.0)</td>\n",
              "    </tr>\n",
              "    <tr>\n",
              "      <th>3</th>\n",
              "      <td>(0.0, 0.0)</td>\n",
              "    </tr>\n",
              "    <tr>\n",
              "      <th>4</th>\n",
              "      <td>(0.5, 0.5)</td>\n",
              "    </tr>\n",
              "  </tbody>\n",
              "</table>\n",
              "</div>"
            ],
            "text/plain": [
              "               processed_text\n",
              "0  (0.15, 0.5777777777777778)\n",
              "1                  (0.0, 0.0)\n",
              "2                  (0.0, 0.0)\n",
              "3                  (0.0, 0.0)\n",
              "4                  (0.5, 0.5)"
            ]
          },
          "execution_count": 19,
          "metadata": {},
          "output_type": "execute_result"
        }
      ],
      "source": [
        "# Apply the function to processed data\n",
        "sentiment = tweets['processed_text'].apply(generate_polarity)\n",
        "sentiment = sentiment.to_frame()\n",
        "sentiment.head()"
      ]
    },
    {
      "cell_type": "code",
      "execution_count": null,
      "metadata": {
        "id": "gxLTLfDeOJrW"
      },
      "outputs": [],
      "source": [
        "# Use the first element as Polarity\n",
        "sentiment['polarity'] = sentiment['processed_text'].apply(lambda x:x[0])\n",
        "\n",
        "# Use the second element as Subjectivity\n",
        "sentiment ['subjectivity'] = sentiment['processed_text'].apply(lambda x:x[1])"
      ]
    },
    {
      "cell_type": "code",
      "execution_count": null,
      "metadata": {
        "id": "qjMvYuaiOJrW"
      },
      "outputs": [],
      "source": [
        "# Add two columns to DataFrame for Polarity and Subjectivity score respectively\n",
        "\n",
        "tweets['polarity'] = sentiment['polarity']\n",
        "tweets['subjectivity'] = sentiment['subjectivity']"
      ]
    },
    {
      "cell_type": "code",
      "execution_count": null,
      "metadata": {
        "id": "Z0_smYMbOJrW"
      },
      "outputs": [],
      "source": [
        "# Encode polarity into 'positive', 'negative' and 'neutral' based on the score\n",
        "\n",
        "tweets['polarity_encoded'] = ['positive' if x > 0 else 'negative' if x < 0 else 'neutral' for x in tweets['polarity']]"
      ]
    },
    {
      "cell_type": "code",
      "execution_count": null,
      "metadata": {
        "id": "OVZ4ym5kOJrW",
        "outputId": "b96be1ff-5157-41f8-e2d4-47d3b73c3236"
      },
      "outputs": [
        {
          "data": {
            "text/plain": [
              "polarity_encoded\n",
              "neutral     3720\n",
              "positive    2648\n",
              "negative    1102\n",
              "Name: count, dtype: int64"
            ]
          },
          "execution_count": 23,
          "metadata": {},
          "output_type": "execute_result"
        }
      ],
      "source": [
        "# Print the number of tweets of each category of polarity\n",
        "tweets['polarity_encoded'].value_counts()"
      ]
    },
    {
      "cell_type": "code",
      "execution_count": null,
      "metadata": {
        "id": "5Mc5YOkYOJrW",
        "outputId": "f90ab11f-3677-4f6a-cae5-0e3df42f1558"
      },
      "outputs": [
        {
          "name": "stdout",
          "output_type": "stream",
          "text": [
            "The most positive tweet: one greatest computer scientists dr vijay bhatkar views demonetization decision hon pm narendramodi h\n",
            "Orginal Tweet: RT @CMOMaharashtra: One of the greatest computer scientists Dr. Vijay Bhatkar's views on #demonetization decision by Hon PM @narendramodi h",
            "\n",
            "\n",
            "The most negative tweet: pathetic journalism media thought get stds atms another attempt malign demonetization tco\n",
            "Orginal Tweet: RT @Jal_Kukdi: Pathetic journalism  when media thought you can get STDs from ATMs. Another attempt to malign #Demonetization\n",
            "https://t.co/",
            "\n"
          ]
        }
      ],
      "source": [
        "# Print the most positive and most negative tweet\n",
        "\n",
        "print(f\"The most Positive Tweet: {tweets.iloc[tweets['polarity'].idxmax()]['processed_text']}\\nOrginal Tweet: {tweets.iloc[tweets['polarity'].idxmax()]['text']}\\n\")\n",
        "print(f\"The most Negative Tweet: {tweets.iloc[tweets['polarity'].idxmin()]['processed_text']}\\nOrginal Tweet: {tweets.iloc[tweets['polarity'].idxmin()]['text']}\")"
      ]
    },
    {
      "cell_type": "code",
      "execution_count": null,
      "metadata": {
        "id": "XrwlljeZOJrW",
        "outputId": "b4bfce17-a67e-4650-e164-5fbd86f182c2"
      },
      "outputs": [
        {
          "name": "stdout",
          "output_type": "stream",
          "text": [
            "The most subjective tweet: demonetization harbhajansingh gives hilarious shagun suggestion struggling wedding season\n",
            "Orginal Tweeet RT @ZeeNewsSports: #Demonetization: @harbhajan_singh gives hilarious 'shagun' suggestion to those struggling with wedding season\n",
            "\n",
            "https://t",
            "\n",
            "\n",
            "The most objective tweet: former finsec rbi dy governor cbdt chair harvard professor lambaste demonetization aam aadmi listen th\n",
            "Orginal Tweet RT @roshankar: Former FinSec, RBI Dy Governor, CBDT Chair + Harvard Professor lambaste #Demonetization.\n",
            "\n",
            "If not for Aam Aadmi, listen to th",
            "\n"
          ]
        }
      ],
      "source": [
        "# Print the most subjective and most objective tweet\n",
        "\n",
        "print(f\"The most Subjective Tweet: {tweets.iloc[tweets['subjectivity'].idxmax()]['processed_text']}\\nOrginal Tweeet {tweets.iloc[tweets['subjectivity'].idxmax()]['text']}\\n\")\n",
        "print(f\"The most Objective Tweet: {tweets.iloc[tweets['subjectivity'].idxmin()]['processed_text']}\\nOrginal Tweet {tweets.iloc[tweets['subjectivity'].idxmin()]['text']}\")"
      ]
    },
    {
      "cell_type": "markdown",
      "metadata": {
        "id": "801yTK8MOJrW"
      },
      "source": [
        "- ### Vectorization"
      ]
    },
    {
      "cell_type": "code",
      "execution_count": null,
      "metadata": {
        "id": "WQ4afDSQOJrX",
        "outputId": "cbf78a76-25ef-4842-cd31-b7bc509ff856"
      },
      "outputs": [
        {
          "data": {
            "text/plain": [
              "Index(['text', 'favorited', 'favoriteCount', 'replyToSN', 'created',\n",
              "       'truncated', 'replyToSID', 'statusSource', 'screenName', 'retweetCount',\n",
              "       'isRetweet', 'retweeted', 'cleaned_text', 'processed_text', 'polarity',\n",
              "       'subjectivity', 'polarity_encoded'],\n",
              "      dtype='object')"
            ]
          },
          "execution_count": 23,
          "metadata": {},
          "output_type": "execute_result"
        }
      ],
      "source": [
        "# Create a DataFrame containing only the columns of interest- Processed text & Polarity Category\n",
        "tweets.columns"
      ]
    },
    {
      "cell_type": "code",
      "execution_count": null,
      "metadata": {
        "id": "AR0ZWsuMOJrX"
      },
      "outputs": [],
      "source": [
        "df = tweets[['processed_text', 'polarity_encoded']]"
      ]
    },
    {
      "cell_type": "code",
      "execution_count": null,
      "metadata": {
        "id": "2kx3W9FGOJrX",
        "outputId": "762665eb-8bff-4096-97d1-151763237f6d"
      },
      "outputs": [
        {
          "data": {
            "text/html": [
              "<div>\n",
              "<style scoped>\n",
              "    .dataframe tbody tr th:only-of-type {\n",
              "        vertical-align: middle;\n",
              "    }\n",
              "\n",
              "    .dataframe tbody tr th {\n",
              "        vertical-align: top;\n",
              "    }\n",
              "\n",
              "    .dataframe thead th {\n",
              "        text-align: right;\n",
              "    }\n",
              "</style>\n",
              "<table border=\"1\" class=\"dataframe\">\n",
              "  <thead>\n",
              "    <tr style=\"text-align: right;\">\n",
              "      <th></th>\n",
              "      <th>processed_text</th>\n",
              "      <th>polarity_encoded</th>\n",
              "    </tr>\n",
              "  </thead>\n",
              "  <tbody>\n",
              "    <tr>\n",
              "      <th>0</th>\n",
              "      <td>critical question paytm informed demonetizatio...</td>\n",
              "      <td>positive</td>\n",
              "    </tr>\n",
              "    <tr>\n",
              "      <th>1</th>\n",
              "      <td>former finsec rbi dy governor cbdt chair harva...</td>\n",
              "      <td>neutral</td>\n",
              "    </tr>\n",
              "    <tr>\n",
              "      <th>2</th>\n",
              "      <td>reddy wedding mailtoday cartoon demonetization...</td>\n",
              "      <td>neutral</td>\n",
              "    </tr>\n",
              "    <tr>\n",
              "      <th>3</th>\n",
              "      <td>rs 40 lakh looted bank kishtwar amp third inci...</td>\n",
              "      <td>neutral</td>\n",
              "    </tr>\n",
              "    <tr>\n",
              "      <th>4</th>\n",
              "      <td>many opposition leaders narendramodi demonetiz...</td>\n",
              "      <td>positive</td>\n",
              "    </tr>\n",
              "  </tbody>\n",
              "</table>\n",
              "</div>"
            ],
            "text/plain": [
              "                                      processed_text polarity_encoded\n",
              "0  critical question paytm informed demonetizatio...         positive\n",
              "1  former finsec rbi dy governor cbdt chair harva...          neutral\n",
              "2  reddy wedding mailtoday cartoon demonetization...          neutral\n",
              "3  rs 40 lakh looted bank kishtwar amp third inci...          neutral\n",
              "4  many opposition leaders narendramodi demonetiz...         positive"
            ]
          },
          "execution_count": 31,
          "metadata": {},
          "output_type": "execute_result"
        }
      ],
      "source": [
        "df.head()"
      ]
    },
    {
      "cell_type": "code",
      "execution_count": null,
      "metadata": {
        "id": "lXlsQk6POJrX",
        "outputId": "464fdedb-2d32-4786-f460-56b918a18f46"
      },
      "outputs": [
        {
          "data": {
            "text/plain": [
              "polarity_encoded\n",
              "neutral     3720\n",
              "positive    2648\n",
              "negative    1102\n",
              "Name: count, dtype: int64"
            ]
          },
          "execution_count": 32,
          "metadata": {},
          "output_type": "execute_result"
        }
      ],
      "source": [
        "df.polarity_encoded.value_counts()"
      ]
    },
    {
      "cell_type": "code",
      "execution_count": null,
      "metadata": {
        "id": "USxgJgl2OJrX",
        "outputId": "8cc6a1d7-0d1d-49e0-c6fd-a233cdc66b03"
      },
      "outputs": [
        {
          "data": {
            "text/plain": [
              "(7470, 2)"
            ]
          },
          "execution_count": 26,
          "metadata": {},
          "output_type": "execute_result"
        }
      ],
      "source": [
        "df.shape"
      ]
    },
    {
      "cell_type": "code",
      "execution_count": null,
      "metadata": {
        "id": "gJfKNc4YOJrX"
      },
      "outputs": [],
      "source": [
        "# Tokenize the text using TweetTokenizer from NLTK\n",
        "\n",
        "from nltk.tokenize import TweetTokenizer\n",
        "from sklearn.feature_extraction.text import CountVectorizer, TfidfTransformer, TfidfVectorizer\n",
        "from sklearn.model_selection import train_test_split"
      ]
    },
    {
      "cell_type": "code",
      "execution_count": null,
      "metadata": {
        "id": "bDvywSKqOJrX"
      },
      "outputs": [],
      "source": [
        "import warnings\n",
        "warnings=warnings.filterwarnings('ignore')"
      ]
    },
    {
      "cell_type": "code",
      "execution_count": null,
      "metadata": {
        "id": "kBWPUyqBOJrY"
      },
      "outputs": [],
      "source": [
        "# Function to generate tokens using TweetTokenizer\n",
        "def tokenize(text):\n",
        "    tk = TweetTokenizer()\n",
        "    return tk.tokenize(text)\n",
        "\n",
        "vectorizer = CountVectorizer(analyzer = 'word',tokenizer = tokenize,lowercase = True,ngram_range=(1, 1))"
      ]
    },
    {
      "cell_type": "code",
      "execution_count": null,
      "metadata": {
        "id": "l0ms8XNuOJrY"
      },
      "outputs": [],
      "source": [
        "# Generate unique words from the processed data by applying Count Vectorizer along with TweetTokenizer\n",
        "\n",
        "count= vectorizer.fit_transform(df['processed_text'])"
      ]
    },
    {
      "cell_type": "code",
      "execution_count": null,
      "metadata": {
        "id": "PNCheNIFOJrY",
        "outputId": "1a5143cd-9e34-407f-9063-5be85954041f"
      },
      "outputs": [
        {
          "data": {
            "text/plain": [
              "(7470, 8912)"
            ]
          },
          "execution_count": 42,
          "metadata": {},
          "output_type": "execute_result"
        }
      ],
      "source": [
        "count.shape\n",
        "# This returns the shape of the term-document matrix geerated by application of Count Vectorizer\n",
        "# The matrix contains same number of rows as in the input DataFrame and number of columns represent the number of unique ngrams (here unigrams) created by vectorizer"
      ]
    },
    {
      "cell_type": "markdown",
      "metadata": {
        "id": "xWxozDJ5OJrY"
      },
      "source": [
        "- ### Create a classification model on our data"
      ]
    },
    {
      "cell_type": "code",
      "execution_count": null,
      "metadata": {
        "id": "zvapiMcLOJrY"
      },
      "outputs": [],
      "source": [
        "# Load the libraries required for performing classification\n",
        "\n",
        "from sklearn.naive_bayes import MultinomialNB\n",
        "from sklearn.metrics import confusion_matrix, accuracy_score, f1_score, precision_score, recall_score"
      ]
    },
    {
      "cell_type": "code",
      "execution_count": null,
      "metadata": {
        "id": "DmZEam2UOJrk"
      },
      "outputs": [],
      "source": [
        "# Split the data into training and testing data sets\n",
        "# Use processed data as independent variable and polarity as dependent variable\n",
        "\n",
        "x = df['processed_text'].values\n",
        "y = df['polarity_encoded'].values\n",
        "\n",
        "x_train, x_test, y_train, y_test = train_test_split(x,y, random_state=100, test_size=0.3)"
      ]
    },
    {
      "cell_type": "code",
      "execution_count": null,
      "metadata": {
        "id": "-67hN4fCOJrk"
      },
      "outputs": [],
      "source": [
        "# Extract features using TFIDF Vectorizer\n",
        "\n",
        "vectorizer = TfidfVectorizer(max_features=1000)\n",
        "x_train_idf = vectorizer.fit_transform(x_train)\n",
        "x_test_idf = vectorizer.transform(x_test)"
      ]
    },
    {
      "cell_type": "code",
      "execution_count": null,
      "metadata": {
        "id": "TdG5SxH7OJrk",
        "outputId": "f14b5c7a-cba4-4c87-fefb-82a80396ae84"
      },
      "outputs": [
        {
          "data": {
            "text/html": [
              "<div>\n",
              "<style scoped>\n",
              "    .dataframe tbody tr th:only-of-type {\n",
              "        vertical-align: middle;\n",
              "    }\n",
              "\n",
              "    .dataframe tbody tr th {\n",
              "        vertical-align: top;\n",
              "    }\n",
              "\n",
              "    .dataframe thead th {\n",
              "        text-align: right;\n",
              "    }\n",
              "</style>\n",
              "<table border=\"1\" class=\"dataframe\">\n",
              "  <thead>\n",
              "    <tr style=\"text-align: right;\">\n",
              "      <th></th>\n",
              "      <th>idf_weights</th>\n",
              "    </tr>\n",
              "  </thead>\n",
              "  <tbody>\n",
              "    <tr>\n",
              "      <th>ysrcp</th>\n",
              "      <td>7.770407</td>\n",
              "    </tr>\n",
              "    <tr>\n",
              "      <th>u092c</th>\n",
              "      <td>7.482725</td>\n",
              "    </tr>\n",
              "    <tr>\n",
              "      <th>oppn</th>\n",
              "      <td>7.364942</td>\n",
              "    </tr>\n",
              "    <tr>\n",
              "      <th>lakhs</th>\n",
              "      <td>7.364942</td>\n",
              "    </tr>\n",
              "    <tr>\n",
              "      <th>lets</th>\n",
              "      <td>7.364942</td>\n",
              "    </tr>\n",
              "  </tbody>\n",
              "</table>\n",
              "</div>"
            ],
            "text/plain": [
              "       idf_weights\n",
              "ysrcp     7.770407\n",
              "u092c     7.482725\n",
              "oppn      7.364942\n",
              "lakhs     7.364942\n",
              "lets      7.364942"
            ]
          },
          "execution_count": 47,
          "metadata": {},
          "output_type": "execute_result"
        }
      ],
      "source": [
        "# Print idf values\n",
        "df_idf = pd.DataFrame(vectorizer.idf_, index=vectorizer.get_feature_names_out(),columns=[\"idf_weights\"])\n",
        "# Sort ascending\n",
        "df_idf.sort_values(by=['idf_weights'],ascending = False).head()"
      ]
    },
    {
      "cell_type": "code",
      "execution_count": null,
      "metadata": {
        "id": "OelQzNRnOJrl",
        "outputId": "9f4a5a3a-7356-4cbb-c1dc-3a92412036b7"
      },
      "outputs": [
        {
          "data": {
            "text/html": [
              "<style>#sk-container-id-1 {color: black;background-color: white;}#sk-container-id-1 pre{padding: 0;}#sk-container-id-1 div.sk-toggleable {background-color: white;}#sk-container-id-1 label.sk-toggleable__label {cursor: pointer;display: block;width: 100%;margin-bottom: 0;padding: 0.3em;box-sizing: border-box;text-align: center;}#sk-container-id-1 label.sk-toggleable__label-arrow:before {content: \"▸\";float: left;margin-right: 0.25em;color: #696969;}#sk-container-id-1 label.sk-toggleable__label-arrow:hover:before {color: black;}#sk-container-id-1 div.sk-estimator:hover label.sk-toggleable__label-arrow:before {color: black;}#sk-container-id-1 div.sk-toggleable__content {max-height: 0;max-width: 0;overflow: hidden;text-align: left;background-color: #f0f8ff;}#sk-container-id-1 div.sk-toggleable__content pre {margin: 0.2em;color: black;border-radius: 0.25em;background-color: #f0f8ff;}#sk-container-id-1 input.sk-toggleable__control:checked~div.sk-toggleable__content {max-height: 200px;max-width: 100%;overflow: auto;}#sk-container-id-1 input.sk-toggleable__control:checked~label.sk-toggleable__label-arrow:before {content: \"▾\";}#sk-container-id-1 div.sk-estimator input.sk-toggleable__control:checked~label.sk-toggleable__label {background-color: #d4ebff;}#sk-container-id-1 div.sk-label input.sk-toggleable__control:checked~label.sk-toggleable__label {background-color: #d4ebff;}#sk-container-id-1 input.sk-hidden--visually {border: 0;clip: rect(1px 1px 1px 1px);clip: rect(1px, 1px, 1px, 1px);height: 1px;margin: -1px;overflow: hidden;padding: 0;position: absolute;width: 1px;}#sk-container-id-1 div.sk-estimator {font-family: monospace;background-color: #f0f8ff;border: 1px dotted black;border-radius: 0.25em;box-sizing: border-box;margin-bottom: 0.5em;}#sk-container-id-1 div.sk-estimator:hover {background-color: #d4ebff;}#sk-container-id-1 div.sk-parallel-item::after {content: \"\";width: 100%;border-bottom: 1px solid gray;flex-grow: 1;}#sk-container-id-1 div.sk-label:hover label.sk-toggleable__label {background-color: #d4ebff;}#sk-container-id-1 div.sk-serial::before {content: \"\";position: absolute;border-left: 1px solid gray;box-sizing: border-box;top: 0;bottom: 0;left: 50%;z-index: 0;}#sk-container-id-1 div.sk-serial {display: flex;flex-direction: column;align-items: center;background-color: white;padding-right: 0.2em;padding-left: 0.2em;position: relative;}#sk-container-id-1 div.sk-item {position: relative;z-index: 1;}#sk-container-id-1 div.sk-parallel {display: flex;align-items: stretch;justify-content: center;background-color: white;position: relative;}#sk-container-id-1 div.sk-item::before, #sk-container-id-1 div.sk-parallel-item::before {content: \"\";position: absolute;border-left: 1px solid gray;box-sizing: border-box;top: 0;bottom: 0;left: 50%;z-index: -1;}#sk-container-id-1 div.sk-parallel-item {display: flex;flex-direction: column;z-index: 1;position: relative;background-color: white;}#sk-container-id-1 div.sk-parallel-item:first-child::after {align-self: flex-end;width: 50%;}#sk-container-id-1 div.sk-parallel-item:last-child::after {align-self: flex-start;width: 50%;}#sk-container-id-1 div.sk-parallel-item:only-child::after {width: 0;}#sk-container-id-1 div.sk-dashed-wrapped {border: 1px dashed gray;margin: 0 0.4em 0.5em 0.4em;box-sizing: border-box;padding-bottom: 0.4em;background-color: white;}#sk-container-id-1 div.sk-label label {font-family: monospace;font-weight: bold;display: inline-block;line-height: 1.2em;}#sk-container-id-1 div.sk-label-container {text-align: center;}#sk-container-id-1 div.sk-container {/* jupyter's `normalize.less` sets `[hidden] { display: none; }` but bootstrap.min.css set `[hidden] { display: none !important; }` so we also need the `!important` here to be able to override the default hidden behavior on the sphinx rendered scikit-learn.org. See: https://github.com/scikit-learn/scikit-learn/issues/21755 */display: inline-block !important;position: relative;}#sk-container-id-1 div.sk-text-repr-fallback {display: none;}</style><div id=\"sk-container-id-1\" class=\"sk-top-container\"><div class=\"sk-text-repr-fallback\"><pre>MultinomialNB()</pre><b>In a Jupyter environment, please rerun this cell to show the HTML representation or trust the notebook. <br />On GitHub, the HTML representation is unable to render, please try loading this page with nbviewer.org.</b></div><div class=\"sk-container\" hidden><div class=\"sk-item\"><div class=\"sk-estimator sk-toggleable\"><input class=\"sk-toggleable__control sk-hidden--visually\" id=\"sk-estimator-id-1\" type=\"checkbox\" checked><label for=\"sk-estimator-id-1\" class=\"sk-toggleable__label sk-toggleable__label-arrow\">MultinomialNB</label><div class=\"sk-toggleable__content\"><pre>MultinomialNB()</pre></div></div></div></div></div>"
            ],
            "text/plain": [
              "MultinomialNB()"
            ]
          },
          "execution_count": 49,
          "metadata": {},
          "output_type": "execute_result"
        }
      ],
      "source": [
        "# Perform Multinomial Naive Bayes Classification\n",
        "mnb = MultinomialNB()\n",
        "mnb.fit(x_train_idf, y_train)\n",
        "\n",
        "# Predict polarity by fitting the model to testing data\n",
        "pred_mnb = mnb.predict(x_test_idf)\n",
        "\n",
        "# Calculate accuracy of predicted values\n",
        "acc = accuracy_score(y_test, pred_mnb)\n",
        "\n",
        "\n",
        "results = pd.DataFrame([['Multinomial Naive Bayes', acc]],\n",
        "               columns = ['Model', 'Accuracy'])\n",
        "\n",
        "print(results)"
      ]
    },
    {
      "cell_type": "code",
      "execution_count": null,
      "metadata": {
        "id": "_OpY-VgoOJrl",
        "outputId": "7c3b4395-7137-497e-992e-16834027bcfd"
      },
      "outputs": [
        {
          "name": "stdout",
          "output_type": "stream",
          "text": [
            "                     Model  Accuracy\n",
            "0  Multinomial Naive Bayes  0.863900\n",
            "1      Random Forest(Gini)  0.927265\n"
          ]
        }
      ],
      "source": [
        "# Perform Random Forest classification with 'gini'\n",
        "from sklearn.ensemble import RandomForestClassifier\n",
        "clf_rf = RandomForestClassifier()\n",
        "clf_rf.fit(x_train_idf, y_train)\n",
        "\n",
        "# Predict using testing data\n",
        "y_pred_rf = clf_rf.predict(x_test_idf)\n",
        "\n",
        "# Calculate accuracy\n",
        "acc = accuracy_score(y_test, y_pred_rf)\n",
        "\n",
        "model_results = pd.DataFrame([['Random Forest(Gini)', acc]],\n",
        "               columns = ['Model', 'Accuracy'])\n",
        "\n",
        "results = pd.concat([results,model_results],ignore_index=True)\n",
        "print(results)"
      ]
    },
    {
      "cell_type": "code",
      "execution_count": null,
      "metadata": {
        "id": "N8GrwjjfOJrl",
        "outputId": "3fddb6cb-4638-43f1-dabb-52f8daeee515"
      },
      "outputs": [
        {
          "name": "stdout",
          "output_type": "stream",
          "text": [
            "                     Model  Accuracy\n",
            "0  Multinomial Naive Bayes  0.863900\n",
            "1      Random Forest(Gini)  0.927265\n",
            "2   Random Forest(Entropy)  0.925480\n"
          ]
        }
      ],
      "source": [
        "# Random Forest Classifier with 'entropy'\n",
        "from sklearn.ensemble import RandomForestClassifier\n",
        "clf_rf = RandomForestClassifier(criterion='entropy')\n",
        "clf_rf.fit(x_train_idf, y_train)\n",
        "\n",
        "# Predict using testing data\n",
        "y_pred_rf = clf_rf.predict(x_test_idf)\n",
        "\n",
        "# Calculate accuracy\n",
        "acc = accuracy_score(y_test, y_pred_rf)\n",
        "\n",
        "model_results = pd.DataFrame([['Random Forest(Entropy)', acc]],\n",
        "               columns = ['Model', 'Accuracy'])\n",
        "\n",
        "results = pd.concat([results,model_results],ignore_index=True)\n",
        "print(results)"
      ]
    },
    {
      "cell_type": "code",
      "execution_count": null,
      "metadata": {
        "id": "Owq8A2tkOJrl",
        "outputId": "e9884fc5-1968-4271-ff0a-b7daa27a3852"
      },
      "outputs": [
        {
          "data": {
            "text/plain": [
              "array([[ 270,   75,    9],\n",
              "       [   6, 1048,    5],\n",
              "       [   5,   78,  745]])"
            ]
          },
          "execution_count": 39,
          "metadata": {},
          "output_type": "execute_result"
        }
      ],
      "source": [
        "# Display confusion matrix for Random Forest\n",
        "\n",
        "confusion_matrix(y_test,y_pred_rf) ### Confusion matrix for Random Forest"
      ]
    },
    {
      "cell_type": "markdown",
      "metadata": {
        "id": "5IiFi31bOJrl"
      },
      "source": [
        "<b><i>Conclusion</i></b>: In this demonstration of the case study, we examined how to perform Sentiment Analysis on Twitter data through various phases such as data cleaning, data pre-processing, tokenization, sentiment scoring, feature extraction and classification using Machine Learning algorithms."
      ]
    }
  ],
  "metadata": {
    "kernelspec": {
      "display_name": "Python 3 (ipykernel)",
      "language": "python",
      "name": "python3"
    },
    "language_info": {
      "codemirror_mode": {
        "name": "ipython",
        "version": 3
      },
      "file_extension": ".py",
      "mimetype": "text/x-python",
      "name": "python",
      "nbconvert_exporter": "python",
      "pygments_lexer": "ipython3",
      "version": "3.11.7"
    },
    "colab": {
      "provenance": [],
      "include_colab_link": true
    }
  },
  "nbformat": 4,
  "nbformat_minor": 0
}